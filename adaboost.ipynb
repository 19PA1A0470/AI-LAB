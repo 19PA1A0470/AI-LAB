{
  "nbformat": 4,
  "nbformat_minor": 0,
  "metadata": {
    "colab": {
      "name": "adaboost.ipynb",
      "provenance": [],
      "authorship_tag": "ABX9TyOV4ph9esuju2ZqAlfNmB0d",
      "include_colab_link": true
    },
    "kernelspec": {
      "name": "python3",
      "display_name": "Python 3"
    }
  },
  "cells": [
    {
      "cell_type": "markdown",
      "metadata": {
        "id": "view-in-github",
        "colab_type": "text"
      },
      "source": [
        "<a href=\"https://colab.research.google.com/github/19PA1A0470/AI-LAB/blob/master/adaboost.ipynb\" target=\"_parent\"><img src=\"https://colab.research.google.com/assets/colab-badge.svg\" alt=\"Open In Colab\"/></a>"
      ]
    },
    {
      "cell_type": "markdown",
      "metadata": {
        "id": "LQk429Pv2Mlb",
        "colab_type": "text"
      },
      "source": [
        "\n",
        "# **ADA boost model**"
      ]
    },
    {
      "cell_type": "code",
      "metadata": {
        "id": "gPRNkURdeKjM",
        "colab_type": "code",
        "colab": {}
      },
      "source": [
        "# importimg required libraries\n",
        "from sklearn.ensemble import AdaBoostClassifier\n",
        "from sklearn.tree import DecisionTreeClassifier\n",
        "import pandas as pd\n",
        "import numpy as np\n",
        "from sklearn.model_selection import train_test_split\n",
        "from sklearn.metrics import confusion_matrix\n"
      ],
      "execution_count": 0,
      "outputs": []
    },
    {
      "cell_type": "code",
      "metadata": {
        "id": "SmRqbwZwKn1V",
        "colab_type": "code",
        "outputId": "f8987860-da21-4b97-a3ed-a2a4ba60ff64",
        "colab": {
          "base_uri": "https://localhost:8080/",
          "height": 419
        }
      },
      "source": [
        "# reading data\n",
        "ipl=pd.read_csv(\"Iris.csv\")\n",
        "ipl"
      ],
      "execution_count": 0,
      "outputs": [
        {
          "output_type": "execute_result",
          "data": {
            "text/html": [
              "<div>\n",
              "<style scoped>\n",
              "    .dataframe tbody tr th:only-of-type {\n",
              "        vertical-align: middle;\n",
              "    }\n",
              "\n",
              "    .dataframe tbody tr th {\n",
              "        vertical-align: top;\n",
              "    }\n",
              "\n",
              "    .dataframe thead th {\n",
              "        text-align: right;\n",
              "    }\n",
              "</style>\n",
              "<table border=\"1\" class=\"dataframe\">\n",
              "  <thead>\n",
              "    <tr style=\"text-align: right;\">\n",
              "      <th></th>\n",
              "      <th>Id</th>\n",
              "      <th>SepalLengthCm</th>\n",
              "      <th>SepalWidthCm</th>\n",
              "      <th>PetalLengthCm</th>\n",
              "      <th>PetalWidthCm</th>\n",
              "      <th>Species</th>\n",
              "    </tr>\n",
              "  </thead>\n",
              "  <tbody>\n",
              "    <tr>\n",
              "      <th>0</th>\n",
              "      <td>1</td>\n",
              "      <td>5.1</td>\n",
              "      <td>3.5</td>\n",
              "      <td>1.4</td>\n",
              "      <td>0.2</td>\n",
              "      <td>Iris-setosa</td>\n",
              "    </tr>\n",
              "    <tr>\n",
              "      <th>1</th>\n",
              "      <td>2</td>\n",
              "      <td>4.9</td>\n",
              "      <td>3.0</td>\n",
              "      <td>1.4</td>\n",
              "      <td>0.2</td>\n",
              "      <td>Iris-setosa</td>\n",
              "    </tr>\n",
              "    <tr>\n",
              "      <th>2</th>\n",
              "      <td>3</td>\n",
              "      <td>4.7</td>\n",
              "      <td>3.2</td>\n",
              "      <td>1.3</td>\n",
              "      <td>0.2</td>\n",
              "      <td>Iris-setosa</td>\n",
              "    </tr>\n",
              "    <tr>\n",
              "      <th>3</th>\n",
              "      <td>4</td>\n",
              "      <td>4.6</td>\n",
              "      <td>3.1</td>\n",
              "      <td>1.5</td>\n",
              "      <td>0.2</td>\n",
              "      <td>Iris-setosa</td>\n",
              "    </tr>\n",
              "    <tr>\n",
              "      <th>4</th>\n",
              "      <td>5</td>\n",
              "      <td>5.0</td>\n",
              "      <td>3.6</td>\n",
              "      <td>1.4</td>\n",
              "      <td>0.2</td>\n",
              "      <td>Iris-setosa</td>\n",
              "    </tr>\n",
              "    <tr>\n",
              "      <th>...</th>\n",
              "      <td>...</td>\n",
              "      <td>...</td>\n",
              "      <td>...</td>\n",
              "      <td>...</td>\n",
              "      <td>...</td>\n",
              "      <td>...</td>\n",
              "    </tr>\n",
              "    <tr>\n",
              "      <th>145</th>\n",
              "      <td>146</td>\n",
              "      <td>6.7</td>\n",
              "      <td>3.0</td>\n",
              "      <td>5.2</td>\n",
              "      <td>2.3</td>\n",
              "      <td>Iris-virginica</td>\n",
              "    </tr>\n",
              "    <tr>\n",
              "      <th>146</th>\n",
              "      <td>147</td>\n",
              "      <td>6.3</td>\n",
              "      <td>2.5</td>\n",
              "      <td>5.0</td>\n",
              "      <td>1.9</td>\n",
              "      <td>Iris-virginica</td>\n",
              "    </tr>\n",
              "    <tr>\n",
              "      <th>147</th>\n",
              "      <td>148</td>\n",
              "      <td>6.5</td>\n",
              "      <td>3.0</td>\n",
              "      <td>5.2</td>\n",
              "      <td>2.0</td>\n",
              "      <td>Iris-virginica</td>\n",
              "    </tr>\n",
              "    <tr>\n",
              "      <th>148</th>\n",
              "      <td>149</td>\n",
              "      <td>6.2</td>\n",
              "      <td>3.4</td>\n",
              "      <td>5.4</td>\n",
              "      <td>2.3</td>\n",
              "      <td>Iris-virginica</td>\n",
              "    </tr>\n",
              "    <tr>\n",
              "      <th>149</th>\n",
              "      <td>150</td>\n",
              "      <td>5.9</td>\n",
              "      <td>3.0</td>\n",
              "      <td>5.1</td>\n",
              "      <td>1.8</td>\n",
              "      <td>Iris-virginica</td>\n",
              "    </tr>\n",
              "  </tbody>\n",
              "</table>\n",
              "<p>150 rows × 6 columns</p>\n",
              "</div>"
            ],
            "text/plain": [
              "      Id  SepalLengthCm  ...  PetalWidthCm         Species\n",
              "0      1            5.1  ...           0.2     Iris-setosa\n",
              "1      2            4.9  ...           0.2     Iris-setosa\n",
              "2      3            4.7  ...           0.2     Iris-setosa\n",
              "3      4            4.6  ...           0.2     Iris-setosa\n",
              "4      5            5.0  ...           0.2     Iris-setosa\n",
              "..   ...            ...  ...           ...             ...\n",
              "145  146            6.7  ...           2.3  Iris-virginica\n",
              "146  147            6.3  ...           1.9  Iris-virginica\n",
              "147  148            6.5  ...           2.0  Iris-virginica\n",
              "148  149            6.2  ...           2.3  Iris-virginica\n",
              "149  150            5.9  ...           1.8  Iris-virginica\n",
              "\n",
              "[150 rows x 6 columns]"
            ]
          },
          "metadata": {
            "tags": []
          },
          "execution_count": 2
        }
      ]
    },
    {
      "cell_type": "code",
      "metadata": {
        "colab_type": "code",
        "outputId": "af9eeb59-7b7b-4343-c79b-a94710cf0fc7",
        "id": "Aj28WIzPwCjj",
        "colab": {
          "base_uri": "https://localhost:8080/",
          "height": 136
        }
      },
      "source": [
        "ipl.isna().any() # to find NA's"
      ],
      "execution_count": 0,
      "outputs": [
        {
          "output_type": "execute_result",
          "data": {
            "text/plain": [
              "Id               False\n",
              "SepalLengthCm    False\n",
              "SepalWidthCm     False\n",
              "PetalLengthCm    False\n",
              "PetalWidthCm     False\n",
              "Species          False\n",
              "dtype: bool"
            ]
          },
          "metadata": {
            "tags": []
          },
          "execution_count": 3
        }
      ]
    },
    {
      "cell_type": "code",
      "metadata": {
        "colab_type": "code",
        "outputId": "001e0077-2a78-428e-db5a-6614a1fd37de",
        "id": "GETveI6pu1BU",
        "colab": {
          "base_uri": "https://localhost:8080/",
          "height": 204
        }
      },
      "source": [
        "#converting catorical feature to numerical feature\n",
        "ipl['Species'].replace(to_replace=['Iris-setosa','Iris-versicolor','Iris-virginica'], value=[0,1,2],inplace=True)\n",
        "ipl.head()"
      ],
      "execution_count": 0,
      "outputs": [
        {
          "output_type": "execute_result",
          "data": {
            "text/html": [
              "<div>\n",
              "<style scoped>\n",
              "    .dataframe tbody tr th:only-of-type {\n",
              "        vertical-align: middle;\n",
              "    }\n",
              "\n",
              "    .dataframe tbody tr th {\n",
              "        vertical-align: top;\n",
              "    }\n",
              "\n",
              "    .dataframe thead th {\n",
              "        text-align: right;\n",
              "    }\n",
              "</style>\n",
              "<table border=\"1\" class=\"dataframe\">\n",
              "  <thead>\n",
              "    <tr style=\"text-align: right;\">\n",
              "      <th></th>\n",
              "      <th>Id</th>\n",
              "      <th>SepalLengthCm</th>\n",
              "      <th>SepalWidthCm</th>\n",
              "      <th>PetalLengthCm</th>\n",
              "      <th>PetalWidthCm</th>\n",
              "      <th>Species</th>\n",
              "    </tr>\n",
              "  </thead>\n",
              "  <tbody>\n",
              "    <tr>\n",
              "      <th>0</th>\n",
              "      <td>1</td>\n",
              "      <td>5.1</td>\n",
              "      <td>3.5</td>\n",
              "      <td>1.4</td>\n",
              "      <td>0.2</td>\n",
              "      <td>0</td>\n",
              "    </tr>\n",
              "    <tr>\n",
              "      <th>1</th>\n",
              "      <td>2</td>\n",
              "      <td>4.9</td>\n",
              "      <td>3.0</td>\n",
              "      <td>1.4</td>\n",
              "      <td>0.2</td>\n",
              "      <td>0</td>\n",
              "    </tr>\n",
              "    <tr>\n",
              "      <th>2</th>\n",
              "      <td>3</td>\n",
              "      <td>4.7</td>\n",
              "      <td>3.2</td>\n",
              "      <td>1.3</td>\n",
              "      <td>0.2</td>\n",
              "      <td>0</td>\n",
              "    </tr>\n",
              "    <tr>\n",
              "      <th>3</th>\n",
              "      <td>4</td>\n",
              "      <td>4.6</td>\n",
              "      <td>3.1</td>\n",
              "      <td>1.5</td>\n",
              "      <td>0.2</td>\n",
              "      <td>0</td>\n",
              "    </tr>\n",
              "    <tr>\n",
              "      <th>4</th>\n",
              "      <td>5</td>\n",
              "      <td>5.0</td>\n",
              "      <td>3.6</td>\n",
              "      <td>1.4</td>\n",
              "      <td>0.2</td>\n",
              "      <td>0</td>\n",
              "    </tr>\n",
              "  </tbody>\n",
              "</table>\n",
              "</div>"
            ],
            "text/plain": [
              "   Id  SepalLengthCm  SepalWidthCm  PetalLengthCm  PetalWidthCm  Species\n",
              "0   1            5.1           3.5            1.4           0.2        0\n",
              "1   2            4.9           3.0            1.4           0.2        0\n",
              "2   3            4.7           3.2            1.3           0.2        0\n",
              "3   4            4.6           3.1            1.5           0.2        0\n",
              "4   5            5.0           3.6            1.4           0.2        0"
            ]
          },
          "metadata": {
            "tags": []
          },
          "execution_count": 4
        }
      ]
    },
    {
      "cell_type": "code",
      "metadata": {
        "id": "MuonsZJ9frQT",
        "colab_type": "code",
        "outputId": "7ca8d906-2ddd-4f6b-9902-31276bebfe75",
        "colab": {
          "base_uri": "https://localhost:8080/",
          "height": 1000
        }
      },
      "source": [
        "# declaring featuresa and target variable\n",
        "X = ipl[['SepalWidthCm','PetalLengthCm','PetalWidthCm','SepalLengthCm']].values\n",
        "y= ipl['Species'].values\n",
        "print('X=',X)\n",
        "print('y=',y)"
      ],
      "execution_count": 0,
      "outputs": [
        {
          "output_type": "stream",
          "text": [
            "X= [[3.5 1.4 0.2 5.1]\n",
            " [3.  1.4 0.2 4.9]\n",
            " [3.2 1.3 0.2 4.7]\n",
            " [3.1 1.5 0.2 4.6]\n",
            " [3.6 1.4 0.2 5. ]\n",
            " [3.9 1.7 0.4 5.4]\n",
            " [3.4 1.4 0.3 4.6]\n",
            " [3.4 1.5 0.2 5. ]\n",
            " [2.9 1.4 0.2 4.4]\n",
            " [3.1 1.5 0.1 4.9]\n",
            " [3.7 1.5 0.2 5.4]\n",
            " [3.4 1.6 0.2 4.8]\n",
            " [3.  1.4 0.1 4.8]\n",
            " [3.  1.1 0.1 4.3]\n",
            " [4.  1.2 0.2 5.8]\n",
            " [4.4 1.5 0.4 5.7]\n",
            " [3.9 1.3 0.4 5.4]\n",
            " [3.5 1.4 0.3 5.1]\n",
            " [3.8 1.7 0.3 5.7]\n",
            " [3.8 1.5 0.3 5.1]\n",
            " [3.4 1.7 0.2 5.4]\n",
            " [3.7 1.5 0.4 5.1]\n",
            " [3.6 1.  0.2 4.6]\n",
            " [3.3 1.7 0.5 5.1]\n",
            " [3.4 1.9 0.2 4.8]\n",
            " [3.  1.6 0.2 5. ]\n",
            " [3.4 1.6 0.4 5. ]\n",
            " [3.5 1.5 0.2 5.2]\n",
            " [3.4 1.4 0.2 5.2]\n",
            " [3.2 1.6 0.2 4.7]\n",
            " [3.1 1.6 0.2 4.8]\n",
            " [3.4 1.5 0.4 5.4]\n",
            " [4.1 1.5 0.1 5.2]\n",
            " [4.2 1.4 0.2 5.5]\n",
            " [3.1 1.5 0.1 4.9]\n",
            " [3.2 1.2 0.2 5. ]\n",
            " [3.5 1.3 0.2 5.5]\n",
            " [3.1 1.5 0.1 4.9]\n",
            " [3.  1.3 0.2 4.4]\n",
            " [3.4 1.5 0.2 5.1]\n",
            " [3.5 1.3 0.3 5. ]\n",
            " [2.3 1.3 0.3 4.5]\n",
            " [3.2 1.3 0.2 4.4]\n",
            " [3.5 1.6 0.6 5. ]\n",
            " [3.8 1.9 0.4 5.1]\n",
            " [3.  1.4 0.3 4.8]\n",
            " [3.8 1.6 0.2 5.1]\n",
            " [3.2 1.4 0.2 4.6]\n",
            " [3.7 1.5 0.2 5.3]\n",
            " [3.3 1.4 0.2 5. ]\n",
            " [3.2 4.7 1.4 7. ]\n",
            " [3.2 4.5 1.5 6.4]\n",
            " [3.1 4.9 1.5 6.9]\n",
            " [2.3 4.  1.3 5.5]\n",
            " [2.8 4.6 1.5 6.5]\n",
            " [2.8 4.5 1.3 5.7]\n",
            " [3.3 4.7 1.6 6.3]\n",
            " [2.4 3.3 1.  4.9]\n",
            " [2.9 4.6 1.3 6.6]\n",
            " [2.7 3.9 1.4 5.2]\n",
            " [2.  3.5 1.  5. ]\n",
            " [3.  4.2 1.5 5.9]\n",
            " [2.2 4.  1.  6. ]\n",
            " [2.9 4.7 1.4 6.1]\n",
            " [2.9 3.6 1.3 5.6]\n",
            " [3.1 4.4 1.4 6.7]\n",
            " [3.  4.5 1.5 5.6]\n",
            " [2.7 4.1 1.  5.8]\n",
            " [2.2 4.5 1.5 6.2]\n",
            " [2.5 3.9 1.1 5.6]\n",
            " [3.2 4.8 1.8 5.9]\n",
            " [2.8 4.  1.3 6.1]\n",
            " [2.5 4.9 1.5 6.3]\n",
            " [2.8 4.7 1.2 6.1]\n",
            " [2.9 4.3 1.3 6.4]\n",
            " [3.  4.4 1.4 6.6]\n",
            " [2.8 4.8 1.4 6.8]\n",
            " [3.  5.  1.7 6.7]\n",
            " [2.9 4.5 1.5 6. ]\n",
            " [2.6 3.5 1.  5.7]\n",
            " [2.4 3.8 1.1 5.5]\n",
            " [2.4 3.7 1.  5.5]\n",
            " [2.7 3.9 1.2 5.8]\n",
            " [2.7 5.1 1.6 6. ]\n",
            " [3.  4.5 1.5 5.4]\n",
            " [3.4 4.5 1.6 6. ]\n",
            " [3.1 4.7 1.5 6.7]\n",
            " [2.3 4.4 1.3 6.3]\n",
            " [3.  4.1 1.3 5.6]\n",
            " [2.5 4.  1.3 5.5]\n",
            " [2.6 4.4 1.2 5.5]\n",
            " [3.  4.6 1.4 6.1]\n",
            " [2.6 4.  1.2 5.8]\n",
            " [2.3 3.3 1.  5. ]\n",
            " [2.7 4.2 1.3 5.6]\n",
            " [3.  4.2 1.2 5.7]\n",
            " [2.9 4.2 1.3 5.7]\n",
            " [2.9 4.3 1.3 6.2]\n",
            " [2.5 3.  1.1 5.1]\n",
            " [2.8 4.1 1.3 5.7]\n",
            " [3.3 6.  2.5 6.3]\n",
            " [2.7 5.1 1.9 5.8]\n",
            " [3.  5.9 2.1 7.1]\n",
            " [2.9 5.6 1.8 6.3]\n",
            " [3.  5.8 2.2 6.5]\n",
            " [3.  6.6 2.1 7.6]\n",
            " [2.5 4.5 1.7 4.9]\n",
            " [2.9 6.3 1.8 7.3]\n",
            " [2.5 5.8 1.8 6.7]\n",
            " [3.6 6.1 2.5 7.2]\n",
            " [3.2 5.1 2.  6.5]\n",
            " [2.7 5.3 1.9 6.4]\n",
            " [3.  5.5 2.1 6.8]\n",
            " [2.5 5.  2.  5.7]\n",
            " [2.8 5.1 2.4 5.8]\n",
            " [3.2 5.3 2.3 6.4]\n",
            " [3.  5.5 1.8 6.5]\n",
            " [3.8 6.7 2.2 7.7]\n",
            " [2.6 6.9 2.3 7.7]\n",
            " [2.2 5.  1.5 6. ]\n",
            " [3.2 5.7 2.3 6.9]\n",
            " [2.8 4.9 2.  5.6]\n",
            " [2.8 6.7 2.  7.7]\n",
            " [2.7 4.9 1.8 6.3]\n",
            " [3.3 5.7 2.1 6.7]\n",
            " [3.2 6.  1.8 7.2]\n",
            " [2.8 4.8 1.8 6.2]\n",
            " [3.  4.9 1.8 6.1]\n",
            " [2.8 5.6 2.1 6.4]\n",
            " [3.  5.8 1.6 7.2]\n",
            " [2.8 6.1 1.9 7.4]\n",
            " [3.8 6.4 2.  7.9]\n",
            " [2.8 5.6 2.2 6.4]\n",
            " [2.8 5.1 1.5 6.3]\n",
            " [2.6 5.6 1.4 6.1]\n",
            " [3.  6.1 2.3 7.7]\n",
            " [3.4 5.6 2.4 6.3]\n",
            " [3.1 5.5 1.8 6.4]\n",
            " [3.  4.8 1.8 6. ]\n",
            " [3.1 5.4 2.1 6.9]\n",
            " [3.1 5.6 2.4 6.7]\n",
            " [3.1 5.1 2.3 6.9]\n",
            " [2.7 5.1 1.9 5.8]\n",
            " [3.2 5.9 2.3 6.8]\n",
            " [3.3 5.7 2.5 6.7]\n",
            " [3.  5.2 2.3 6.7]\n",
            " [2.5 5.  1.9 6.3]\n",
            " [3.  5.2 2.  6.5]\n",
            " [3.4 5.4 2.3 6.2]\n",
            " [3.  5.1 1.8 5.9]]\n",
            "y= [0 0 0 0 0 0 0 0 0 0 0 0 0 0 0 0 0 0 0 0 0 0 0 0 0 0 0 0 0 0 0 0 0 0 0 0 0\n",
            " 0 0 0 0 0 0 0 0 0 0 0 0 0 1 1 1 1 1 1 1 1 1 1 1 1 1 1 1 1 1 1 1 1 1 1 1 1\n",
            " 1 1 1 1 1 1 1 1 1 1 1 1 1 1 1 1 1 1 1 1 1 1 1 1 1 1 2 2 2 2 2 2 2 2 2 2 2\n",
            " 2 2 2 2 2 2 2 2 2 2 2 2 2 2 2 2 2 2 2 2 2 2 2 2 2 2 2 2 2 2 2 2 2 2 2 2 2\n",
            " 2 2]\n"
          ],
          "name": "stdout"
        }
      ]
    },
    {
      "cell_type": "code",
      "metadata": {
        "id": "V1h1AU-LgN4b",
        "colab_type": "code",
        "outputId": "7ba6598e-6f01-490a-b507-b3f5657da63b",
        "colab": {
          "base_uri": "https://localhost:8080/",
          "height": 163
        }
      },
      "source": [
        "# splitting of data into train and test\n",
        "X_train, X_test, y_train, y_test = train_test_split(X, z, test_size=0.3,random_state=143)"
      ],
      "execution_count": 0,
      "outputs": [
        {
          "output_type": "error",
          "ename": "NameError",
          "evalue": "ignored",
          "traceback": [
            "\u001b[0;31m---------------------------------------------------------------------------\u001b[0m",
            "\u001b[0;31mNameError\u001b[0m                                 Traceback (most recent call last)",
            "\u001b[0;32m<ipython-input-6-9fdd52cbd497>\u001b[0m in \u001b[0;36m<module>\u001b[0;34m()\u001b[0m\n\u001b[0;32m----> 1\u001b[0;31m \u001b[0mX_train\u001b[0m\u001b[0;34m,\u001b[0m \u001b[0mX_test\u001b[0m\u001b[0;34m,\u001b[0m \u001b[0my_train\u001b[0m\u001b[0;34m,\u001b[0m \u001b[0my_test\u001b[0m \u001b[0;34m=\u001b[0m \u001b[0mtrain_test_split\u001b[0m\u001b[0;34m(\u001b[0m\u001b[0mX\u001b[0m\u001b[0;34m,\u001b[0m \u001b[0mz\u001b[0m\u001b[0;34m,\u001b[0m \u001b[0mtest_size\u001b[0m\u001b[0;34m=\u001b[0m\u001b[0;36m0.3\u001b[0m\u001b[0;34m,\u001b[0m\u001b[0mrandom_state\u001b[0m\u001b[0;34m=\u001b[0m\u001b[0;36m143\u001b[0m\u001b[0;34m)\u001b[0m\u001b[0;34m\u001b[0m\u001b[0;34m\u001b[0m\u001b[0m\n\u001b[0m",
            "\u001b[0;31mNameError\u001b[0m: name 'z' is not defined"
          ]
        }
      ]
    },
    {
      "cell_type": "code",
      "metadata": {
        "id": "SGqpVe2cgN3K",
        "colab_type": "code",
        "colab": {}
      },
      "source": [
        "print(\"X_train\",X_train)\n",
        "print(\"X_test\",X_test)\n",
        "\n",
        "print(\"y_train\",y_train)\n",
        "print(\"y_test\",y_test)"
      ],
      "execution_count": 0,
      "outputs": []
    },
    {
      "cell_type": "code",
      "metadata": {
        "id": "kNhA9U88pJNa",
        "colab_type": "code",
        "colab": {}
      },
      "source": [
        "#now building  adaboostclassifier on training sets and fitting \n",
        "classifier = AdaBoostClassifier(\n",
        "    DecisionTreeClassifier(max_depth=1),\n",
        "    n_estimators=100\n",
        ")\n",
        "classifier.fit(X_train, y_train)"
      ],
      "execution_count": 0,
      "outputs": []
    },
    {
      "cell_type": "code",
      "metadata": {
        "id": "eaTg7vojrPXl",
        "colab_type": "code",
        "colab": {}
      },
      "source": [
        "#now predicting based on x_test values\n",
        "predictions = classifier.predict(X_test)\n",
        "predictions"
      ],
      "execution_count": 0,
      "outputs": []
    },
    {
      "cell_type": "code",
      "metadata": {
        "id": "iryk7IvuBUnT",
        "colab_type": "code",
        "colab": {}
      },
      "source": [
        "y_test=y_test\n",
        "predictions=predictions.reshape(-1,)\n",
        "\n",
        "\n",
        "diff=pd.DataFrame({'Actual':y_test,'Predicted':predictions})\n",
        "diff"
      ],
      "execution_count": 0,
      "outputs": []
    },
    {
      "cell_type": "code",
      "metadata": {
        "id": "NH8ww4RcU0ac",
        "colab_type": "code",
        "colab": {}
      },
      "source": [
        "#  classification  report of our model\n",
        "from sklearn.metrics import classification_report\n",
        "print(classification_report(y_test,predictions))\n",
        "\n",
        "\n"
      ],
      "execution_count": 0,
      "outputs": []
    },
    {
      "cell_type": "code",
      "metadata": {
        "id": "HCy7zre2BUlV",
        "colab_type": "code",
        "colab": {}
      },
      "source": [
        "from sklearn.metrics import mean_squared_error#calculating error of our model\n",
        "mean_squared_error(diff['Actual'],diff['Predicted'])\n"
      ],
      "execution_count": 0,
      "outputs": []
    },
    {
      "cell_type": "code",
      "metadata": {
        "colab_type": "code",
        "id": "lK-M-KAI7sn1",
        "colab": {}
      },
      "source": [
        "# Model Accuracy, how often is the classifier correct?\n",
        "print(\"Accuracy:\",metrics.accuracy_score(y_test, predictions))"
      ],
      "execution_count": 0,
      "outputs": []
    },
    {
      "cell_type": "markdown",
      "metadata": {
        "id": "FkkkNJUr8-iy",
        "colab_type": "text"
      },
      "source": [
        "# accuracy of classifier through ada boost method =**95%**"
      ]
    },
    {
      "cell_type": "markdown",
      "metadata": {
        "id": "jRE38xon1y3I",
        "colab_type": "text"
      },
      "source": [
        "# **Decision tree model** "
      ]
    },
    {
      "cell_type": "code",
      "metadata": {
        "id": "Vcxf5ktUwNuc",
        "colab_type": "code",
        "colab": {}
      },
      "source": [
        "#importing decision tree classifier\n",
        "from sklearn.tree import DecisionTreeClassifier\n"
      ],
      "execution_count": 0,
      "outputs": []
    },
    {
      "cell_type": "code",
      "metadata": {
        "id": "Pw2A2RSwzOBB",
        "colab_type": "code",
        "colab": {}
      },
      "source": [
        "#fittting the training set into model\n",
        "dt = DecisionTreeClassifier()\n",
        "dt.fit(X_train, y_train)\n"
      ],
      "execution_count": 0,
      "outputs": []
    },
    {
      "cell_type": "code",
      "metadata": {
        "id": "3gXxVuprzapk",
        "colab_type": "code",
        "colab": {}
      },
      "source": [
        "\n",
        "#testing the model\n",
        "predict = dt.predict(X_test)\n",
        "predict"
      ],
      "execution_count": 0,
      "outputs": []
    },
    {
      "cell_type": "code",
      "metadata": {
        "colab_type": "code",
        "id": "9n1SZK_01Pm8",
        "colab": {}
      },
      "source": [
        "#comparing actual with prediction\n",
        "y_test=y_test\n",
        "predict=predict.reshape(-1,)\n",
        "\n",
        "diff=pd.DataFrame({'Actual':y_test,'Predicted':predict})\n",
        "diff"
      ],
      "execution_count": 0,
      "outputs": []
    },
    {
      "cell_type": "code",
      "metadata": {
        "colab_type": "code",
        "id": "7KDaJgv-21Qz",
        "colab": {}
      },
      "source": [
        "#  classification  report of our model\n",
        "from sklearn.metrics import classification_report\n",
        "print(classification_report(y_test,predict))\n",
        "\n"
      ],
      "execution_count": 0,
      "outputs": []
    },
    {
      "cell_type": "code",
      "metadata": {
        "colab_type": "code",
        "id": "H8OWr1Qn477_",
        "colab": {}
      },
      "source": [
        "#calculating error\n",
        "from sklearn.metrics import mean_squared_error\n",
        "mean_squared_error(diff['Actual'],diff['Predicted'])\n"
      ],
      "execution_count": 0,
      "outputs": []
    },
    {
      "cell_type": "code",
      "metadata": {
        "id": "G2wt601v7NF6",
        "colab_type": "code",
        "colab": {}
      },
      "source": [
        "# Model Accuracy, how often is the classifier correct?\n",
        "print(\"Accuracy:\",metrics.accuracy_score(y_test, predict))"
      ],
      "execution_count": 0,
      "outputs": []
    },
    {
      "cell_type": "markdown",
      "metadata": {
        "colab_type": "text",
        "id": "DONAbSQX9YM2"
      },
      "source": [
        "# accuracy of classifier through Decision tree method =**93%**"
      ]
    },
    {
      "cell_type": "markdown",
      "metadata": {
        "id": "MekNYK2E9iuU",
        "colab_type": "text"
      },
      "source": [
        "# **Report**\n",
        "\n",
        "**from the above we find the accuracy of the model is good by using ensemble method (ada boost)  then generalclassifier like  svm , decissiontree ,kNNclassifier etc**\n",
        "\n",
        "\n",
        "\n",
        "\n"
      ]
    }
  ]
}